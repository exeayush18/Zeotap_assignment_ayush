{
  "nbformat": 4,
  "nbformat_minor": 0,
  "metadata": {
    "colab": {
      "provenance": []
    },
    "kernelspec": {
      "name": "python3",
      "display_name": "Python 3"
    },
    "language_info": {
      "name": "python"
    }
  },
  "cells": [
    {
      "cell_type": "code",
      "execution_count": 1,
      "metadata": {
        "id": "QpeAaBIgMy1I"
      },
      "outputs": [],
      "source": [
        "import pandas as pd\n",
        "from sklearn.metrics.pairwise import cosine_similarity\n",
        "from sklearn.preprocessing import StandardScaler"
      ]
    },
    {
      "cell_type": "code",
      "source": [
        "# Load datasets\n",
        "customers = pd.read_csv(\"Customers.csv\")\n",
        "products = pd.read_csv(\"Products.csv\")\n",
        "transactions = pd.read_csv(\"Transactions.csv\")"
      ],
      "metadata": {
        "id": "5MMzeoKLPEEY"
      },
      "execution_count": 2,
      "outputs": []
    },
    {
      "cell_type": "code",
      "source": [
        "# Merge datasets to create a unified dataset\n",
        "customer_transactions = pd.merge(transactions, customers, on=\"CustomerID\")\n",
        "full_data = pd.merge(customer_transactions, products, on=\"ProductID\")"
      ],
      "metadata": {
        "id": "sOKFwchaPG2I"
      },
      "execution_count": 3,
      "outputs": []
    },
    {
      "cell_type": "code",
      "source": [
        "# Step 1: Feature Engineering\n",
        "# Total spending by each customer\n",
        "customer_spending = full_data.groupby(\"CustomerID\")[\"TotalValue\"].sum().rename(\"TotalSpending\")\n",
        "\n",
        "# Total quantity purchased by each customer\n",
        "customer_quantity = full_data.groupby(\"CustomerID\")[\"Quantity\"].sum().rename(\"TotalQuantity\")\n",
        "\n",
        "# Region as a categorical feature\n",
        "customer_region = customers.set_index(\"CustomerID\")[\"Region\"]\n",
        "\n",
        "# Combine features into a single DataFrame\n",
        "customer_features = pd.concat([customer_spending, customer_quantity, pd.get_dummies(customer_region)], axis=1)\n"
      ],
      "metadata": {
        "id": "JyFpTlV0PJLg"
      },
      "execution_count": 4,
      "outputs": []
    },
    {
      "cell_type": "code",
      "source": [
        "# Fill missing values with 0\n",
        "customer_features.fillna(0, inplace=True)"
      ],
      "metadata": {
        "id": "gI1eJ1npPK1y"
      },
      "execution_count": 5,
      "outputs": []
    },
    {
      "cell_type": "code",
      "source": [
        "# Normalize features for similarity calculation\n",
        "scaler = StandardScaler()\n",
        "normalized_features = scaler.fit_transform(customer_features)"
      ],
      "metadata": {
        "id": "OoqF3XbBPMo9"
      },
      "execution_count": 6,
      "outputs": []
    },
    {
      "cell_type": "code",
      "source": [
        "# Step 2: Compute Similarity Matrix\n",
        "similarity_matrix = cosine_similarity(normalized_features)\n",
        "similarity_df = pd.DataFrame(similarity_matrix, index=customer_features.index, columns=customer_features.index)\n"
      ],
      "metadata": {
        "id": "RZdTVLDTPO51"
      },
      "execution_count": 7,
      "outputs": []
    },
    {
      "cell_type": "code",
      "source": [
        "# Step 3: Generate Recommendations for First 20 Customers\n",
        "recommendations = {}\n",
        "for customer_id in customers[\"CustomerID\"][:20]:\n",
        "    # Get similarity scores for the current customer\n",
        "    similar_customers = similarity_df[customer_id].sort_values(ascending=False)[1:4]  # Top 3 similar customers\n",
        "    recommendations[customer_id] = list(zip(similar_customers.index, similar_customers.values))\n"
      ],
      "metadata": {
        "id": "sPW9uDZEPQ6D"
      },
      "execution_count": 8,
      "outputs": []
    },
    {
      "cell_type": "code",
      "source": [],
      "metadata": {
        "id": "5LncBhaiPSXK"
      },
      "execution_count": null,
      "outputs": []
    },
    {
      "cell_type": "code",
      "source": [
        "# Convert recommendations into the required format\n",
        "lookalike_data = []\n",
        "for cust_id, lookalikes in recommendations.items():\n",
        "    for similar_cust_id, score in lookalikes:\n",
        "        lookalike_data.append({\"CustomerID\": cust_id, \"LookalikeCustomerID\": similar_cust_id, \"Score\": score})\n",
        "\n",
        "lookalike_df = pd.DataFrame(lookalike_data)\n"
      ],
      "metadata": {
        "id": "7OHjHCX8JSNX"
      },
      "execution_count": 9,
      "outputs": []
    },
    {
      "cell_type": "code",
      "source": [
        "# Save recommendations to CSV\n",
        "lookalike_df.to_csv(\"Lookalike.csv\", index=False)"
      ],
      "metadata": {
        "id": "M9CTKhmoPVas"
      },
      "execution_count": 10,
      "outputs": []
    },
    {
      "cell_type": "code",
      "source": [
        "# Output top recommendations\n",
        "print(\"Lookalike Recommendations for First 20 Customers:\")\n",
        "print(lookalike_df.head(10))"
      ],
      "metadata": {
        "colab": {
          "base_uri": "https://localhost:8080/"
        },
        "id": "He4Llb2nPYaC",
        "outputId": "905a57c9-4ea9-49ae-99a0-b08a6cf6ef64"
      },
      "execution_count": 11,
      "outputs": [
        {
          "output_type": "stream",
          "name": "stdout",
          "text": [
            "Lookalike Recommendations for First 20 Customers:\n",
            "  CustomerID LookalikeCustomerID     Score\n",
            "0      C0001               C0107  0.996781\n",
            "1      C0001               C0137  0.996133\n",
            "2      C0001               C0184  0.996082\n",
            "3      C0002               C0088  0.998174\n",
            "4      C0002               C0142  0.994310\n",
            "5      C0002               C0159  0.989536\n",
            "6      C0003               C0147  0.997951\n",
            "7      C0003               C0190  0.997257\n",
            "8      C0003               C0174  0.983825\n",
            "9      C0004               C0113  0.994517\n"
          ]
        }
      ]
    },
    {
      "cell_type": "code",
      "source": [],
      "metadata": {
        "id": "y7IJiJ8oPZ26"
      },
      "execution_count": null,
      "outputs": []
    }
  ]
}